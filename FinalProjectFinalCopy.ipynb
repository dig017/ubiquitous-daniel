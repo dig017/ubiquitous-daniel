{
 "cells": [
  {
   "cell_type": "markdown",
   "metadata": {},
   "source": [
    "## BurritoBot 1.0"
   ]
  },
  {
   "cell_type": "markdown",
   "metadata": {},
   "source": [
    "The future is here, no more waiting in long lines at Chipotle or wherever your Burrito endeavours have taken you!\n",
    "The following is BurritoBot 1.0, which takes in basic Burrito commands such as tortilla, protein, and sauce type.\n",
    "Feel free to ask BurritoBot whether or not we serve other food options, or have certain food-types.\n",
    "For your safety, BurritoBot doesn't take cash but we proudly accept Credit Cards.\n",
    "Cancel your transaction anytime by telling BurritoBot \"cancel\" or \"bye\".\n",
    "If your transaction was successful you should see a \"Payment Verified\" message!\n",
    "Hopefully, you find this BurritoBot fun and convenient! "
   ]
  },
  {
   "cell_type": "code",
   "execution_count": 1,
   "metadata": {},
   "outputs": [],
   "source": [
    "import string\n",
    "import random"
   ]
  },
  {
   "cell_type": "code",
   "execution_count": 2,
   "metadata": {},
   "outputs": [],
   "source": [
    "from my_module.functions import creditcard, selector, question_asked, string_concatenator, remove_punctuation, prepare_text, defined_output, list_to_string, end_chat, is_in_list, find_in_list\n",
    "\n",
    "\n",
    "\n",
    "\n"
   ]
  },
  {
   "cell_type": "code",
   "execution_count": 3,
   "metadata": {},
   "outputs": [],
   "source": [
    "NO_IN = ['none']\n",
    "NO_OUT = [\"You should still choose one of the options above.\", \\\n",
    "         \"The options above are the only ones available :(\", \\\n",
    "         \"BurritoBot can only offer you the options above.\", \\\n",
    "         \"Hmm, try asking a question about other food options.\", \\\n",
    "         \"Please select an above option!\", \\\n",
    "         \"Have you tried asking a question about a specific food option?\"]\n",
    "\n",
    "GREETINGS_IN = ['hello', 'hi', 'hey', 'hola', 'welcome', 'bonjour', 'greetings', 'yo']\n",
    "GREETINGS_OUT = [\"Hello, this is BurritoBot the world's first Burrito Vending Machine! Now is a good time to ask questions. Can I get a burrito started for you? (yes/bye)\"]\n",
    "\n",
    "ORDER_PLACED = ['yes', 'yup', 'absolutely']\n",
    "ORDER_STARTED = [\"Alrighty Human, would you like a flour, wheat, or corn tortilla? What about a bowl?\",\\\n",
    "                \"Are you a bowl person or would you like a flour, wheat, or corn tortilla?\"]\n",
    "\n",
    "TORTILLA_TYPE = ['flour','wheat','corn', 'bowl']\n",
    "TORTILLA_SELECTED = ['Great selection! What kind of protein would you like: steak, chicken, fish, vegetarian?',\\\n",
    "                    \"Nice pick! What about protein: chicken, fish, steak, vegetarian?\"]\n",
    "\n",
    "PROTEIN_TYPE = ['steak', 'chicken','fish','vegetarian']\n",
    "PROTEIN_SELECTED = ['Of course! Now, black, pinto, or no beans?',\\\n",
    "                   \"Cool! For beans we have black or pinto! Or no beans?\"]\n",
    "\n",
    "BEAN_TYPE = ['black','pinto', 'no', 'beans', 'nobeans']\n",
    "BEAN_SELECTED = ['I like your syle! What about white or brown rice? Or no rice?']\n",
    "\n",
    "RICE_TYPE = ['white','brown', 'no', 'rice' ,'norice']\n",
    "RICE_SELECTED = ['Very well, and did you want mild, medium, hot or no sauce?']\n",
    "\n",
    "SAUCE_TYPE = ['mild','medium','hot', 'no', 'sauce']\n",
    "SAUCE_SELECTED = ['That would have been my choice as well! Press g to add guac for $3 or c to conitune!']\n",
    "\n",
    "BURRITO_INDEPENDENT = ['burrito','burritos','burrit']\n",
    "BURRITO_GENERAL = [\"For $6.99 Burritos are our speciality, don't forget to select an option above!\"]\n",
    "\n",
    "GUAC = ['g']\n",
    "GUAC_SELECTED = [\"Nice! Your total is $9.99, please input your 16 digit card number!\"]\n",
    "\n",
    "NO_GUAC= ['c']\n",
    "NO_GUAC_SELECTED = [\"Alrighty, let's wrap this up. Your total is $6.99, please input your 16 digit card number\"]\n",
    "\n",
    "\n",
    "OTHER_FOOD_OPTIONS = ['vegan','drinks','tacos','coke','soda','pop','nachos','burgers','sandwiches']\n",
    "OTHER_FOOD_OUT = [\"Please select another option above. Unfortunately, BurritoBot hasn't been updated to serve\"]\n",
    "\n",
    "UNKNOWN_INPUT = ['Lets stay on course with the order please! Select one of the following options.',\\\n",
    "                 'Please, be courteous to other customers and stay on course with your order. Select one of the options above.']\n",
    "\n",
    "QUESTION = \"Hmmmm, I didn't quite get that. Try choosing an option above or ask a more specific question!\"\n",
    "\n"
   ]
  },
  {
   "cell_type": "code",
   "execution_count": 4,
   "metadata": {},
   "outputs": [],
   "source": [
    "def BurritoBot():\n",
    "    \"\"\"\n",
    "    \"\"\"\n",
    "    \n",
    "    chat = True\n",
    "    while chat:\n",
    "\n",
    "        #This is how we get the message from the customer\n",
    "        msg = input('INPUT :\\t')\n",
    "        out_msg = None\n",
    "        message = None\n",
    "\n",
    "        # Check if the input is a question\n",
    "        question = question_asked(msg)\n",
    "\n",
    "        # Prepares for what the customer will order\n",
    "        msg = prepare_text(msg)\n",
    "\n",
    "        # Check for an end msg \n",
    "        if end_chat(msg):\n",
    "            out_msg = 'Thanks, have a good day!'\n",
    "            chat = False\n",
    "\n",
    "        \n",
    "        if not out_msg:\n",
    "\n",
    "            # Initialize to collect a list of possible outputs\n",
    "            order = []\n",
    "\n",
    "            #Checks if BurritoBot was greeted, if not, then exited. \n",
    "            order.append(selector(msg, GREETINGS_IN, GREETINGS_OUT))\n",
    "\n",
    "            # Main method to add food\n",
    "            order.append(selector(msg, ORDER_PLACED, ORDER_STARTED))\n",
    "            \n",
    "            order.append(selector(msg, PROTEIN_TYPE, PROTEIN_SELECTED))\n",
    "            \n",
    "            order.append(selector(msg, TORTILLA_TYPE, TORTILLA_SELECTED))\n",
    "            \n",
    "            order.append(selector(msg, BEAN_TYPE, BEAN_SELECTED))\n",
    "            \n",
    "            order.append(selector(msg, RICE_TYPE, RICE_SELECTED))\n",
    "            \n",
    "            order.append(selector(msg, SAUCE_TYPE, SAUCE_SELECTED))\n",
    "            \n",
    "            order.append(selector(msg, GUAC, GUAC_SELECTED))\n",
    "            \n",
    "            order.append(selector(msg, NO_GUAC, NO_GUAC_SELECTED))\n",
    "            \n",
    "            order.append(selector(msg, NO_IN, NO_OUT))\n",
    "            \n",
    "            order.append(selector(msg, BURRITO_INDEPENDENT, BURRITO_GENERAL))\n",
    "            \n",
    "            # This input takes in possible food options consumers would want, but BurritoBot doesn't have. \n",
    "            if is_in_list(msg, OTHER_FOOD_OPTIONS):\n",
    "                order.append(list_to_string([selector(msg, OTHER_FOOD_OPTIONS, OTHER_FOOD_OUT), find_in_list(msg, OTHER_FOOD_OPTIONS)], ' '))\n",
    "\n",
    "            \n",
    "            options = list(filter(None, order))\n",
    "            if options:\n",
    "                out_msg = random.choice(options)\n",
    "            \n",
    "\n",
    "        #How customers get a response to their question\n",
    "        if not out_msg and question:\n",
    "            out_msg = QUESTION\n",
    "\n",
    "        # Directs customers to select another option when the option they're trying to input is not served.\n",
    "        if not out_msg:\n",
    "            out_msg = random.choice(UNKNOWN_INPUT)\n",
    "        \n",
    "        if creditcard(msg) == True:\n",
    "            out_msg = \"Payment Verified, Have a wonderful day!\"\n",
    "            chat = False\n",
    "            \n",
    "        if creditcard(msg) == False:\n",
    "            out_msg = \"Ooops! Looks like you missed some digits!\"\n",
    "            chat = True\n",
    "            \n",
    "            \n",
    "\n",
    "        print('OUTPUT:', out_msg)\n",
    "        \n",
    "        \n",
    "    print('out of chat')"
   ]
  },
  {
   "cell_type": "code",
   "execution_count": null,
   "metadata": {},
   "outputs": [
    {
     "name": "stdout",
     "output_type": "stream",
     "text": [
      "INPUT :\thi\n",
      "OUTPUT: Hello, this is BurritoBot the world's first Burrito Vending Machine! Now is a good time to ask questions. Can I get a burrito started for you? (yes/bye)\n"
     ]
    }
   ],
   "source": [
    "BurritoBot()"
   ]
  }
 ],
 "metadata": {
  "kernelspec": {
   "display_name": "Python 3",
   "language": "python",
   "name": "python3"
  },
  "language_info": {
   "codemirror_mode": {
    "name": "ipython",
    "version": 3
   },
   "file_extension": ".py",
   "mimetype": "text/x-python",
   "name": "python",
   "nbconvert_exporter": "python",
   "pygments_lexer": "ipython3",
   "version": "3.7.0"
  }
 },
 "nbformat": 4,
 "nbformat_minor": 2
}
